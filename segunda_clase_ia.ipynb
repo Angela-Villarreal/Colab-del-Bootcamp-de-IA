{
  "nbformat": 4,
  "nbformat_minor": 0,
  "metadata": {
    "colab": {
      "provenance": [],
      "authorship_tag": "ABX9TyOY2V2Z56tvR+PRKzT3EjNZ",
      "include_colab_link": true
    },
    "kernelspec": {
      "name": "python3",
      "display_name": "Python 3"
    },
    "language_info": {
      "name": "python"
    }
  },
  "cells": [
    {
      "cell_type": "markdown",
      "metadata": {
        "id": "view-in-github",
        "colab_type": "text"
      },
      "source": [
        "<a href=\"https://colab.research.google.com/github/Angela-Villarreal/Colab-del-Bootcamp-de-IA/blob/main/segunda_clase_ia.ipynb\" target=\"_parent\"><img src=\"https://colab.research.google.com/assets/colab-badge.svg\" alt=\"Open In Colab\"/></a>"
      ]
    },
    {
      "cell_type": "code",
      "execution_count": null,
      "metadata": {
        "colab": {
          "base_uri": "https://localhost:8080/"
        },
        "id": "KdKisbKBVOYk",
        "outputId": "83909a07-ea02-4715-ca31-08c9cd5f7251"
      },
      "outputs": [
        {
          "output_type": "execute_result",
          "data": {
            "text/plain": [
              "10"
            ]
          },
          "metadata": {},
          "execution_count": 1
        }
      ],
      "source": [
        "5+5"
      ]
    },
    {
      "cell_type": "code",
      "source": [
        "x=5\n",
        "y=5\n",
        "z=x+y\n",
        "print(z)"
      ],
      "metadata": {
        "colab": {
          "base_uri": "https://localhost:8080/"
        },
        "id": "8z0RwZKPY-tq",
        "outputId": "71db7a43-2759-47ce-ac3f-b37b63ca32fd"
      },
      "execution_count": null,
      "outputs": [
        {
          "output_type": "stream",
          "name": "stdout",
          "text": [
            "10\n"
          ]
        }
      ]
    },
    {
      "cell_type": "markdown",
      "source": [
        "## ***hola*** **😊🤪**\n"
      ],
      "metadata": {
        "id": "iiUjJV3uazNq"
      }
    },
    {
      "cell_type": "code",
      "source": [
        "print(\"Hola mundo\")"
      ],
      "metadata": {
        "colab": {
          "base_uri": "https://localhost:8080/"
        },
        "id": "k7Do892cc1Cr",
        "outputId": "69d4f442-fb59-40e3-cd77-192e003225b0"
      },
      "execution_count": null,
      "outputs": [
        {
          "output_type": "stream",
          "name": "stdout",
          "text": [
            "Hola mundo\n"
          ]
        }
      ]
    },
    {
      "cell_type": "code",
      "source": [
        "5**3"
      ],
      "metadata": {
        "colab": {
          "base_uri": "https://localhost:8080/"
        },
        "id": "mLGahh43eJng",
        "outputId": "7e465f30-e0a5-481c-d218-2c34fe445488"
      },
      "execution_count": null,
      "outputs": [
        {
          "output_type": "execute_result",
          "data": {
            "text/plain": [
              "125"
            ]
          },
          "metadata": {},
          "execution_count": 7
        }
      ]
    },
    {
      "cell_type": "code",
      "source": [
        "nombre=input(\"Ingrese el primer nombre: \")\n",
        "print(nombre)"
      ],
      "metadata": {
        "colab": {
          "base_uri": "https://localhost:8080/"
        },
        "id": "7TVUed8BeeBd",
        "outputId": "dea85572-8788-4823-f6f8-a2cfdb3f8d57"
      },
      "execution_count": null,
      "outputs": [
        {
          "output_type": "stream",
          "name": "stdout",
          "text": [
            "Ingrese el primer nombre: angela\n",
            "angela\n"
          ]
        }
      ]
    },
    {
      "cell_type": "markdown",
      "source": [
        "## ***Ejemplo de Calculadora Sencilla 🔢***"
      ],
      "metadata": {
        "id": "EhNMcBm5fgiC"
      }
    },
    {
      "cell_type": "code",
      "source": [
        "import math\n",
        "print('Ejemplo de Calculadora')\n",
        "print()\n",
        "print(\"MENU: \")\n",
        "print()\n",
        "print(\"1. Sumar (+)\")\n",
        "print(\"2. Restar (-)\")\n",
        "print(\"3. Multiplicar (*)\")\n",
        "print(\"4. Dividir (/)\")\n",
        "print(\"5. Potenciacion (^)\")\n",
        "print(\"6. Raiz cuadrada (√)\")\n",
        "print(\"7. Logaritmo en base 10 (Ln)\")\n",
        "print(\"8. Seno (sen)\")\n",
        "print(\"9. Coseno (con)\")\n",
        "print(\"10. Tangente (tan)\")\n",
        "print()\n",
        "\n",
        "opcion=input(\"Ingrese la opción deseada del menú: \")\n",
        "numero_uno=float(input('Ingrese el primer número de la operación: '))\n",
        "numero_dos=float(input('Ingrese el segundo número de la operación: '))\n",
        "print()\n",
        "\n",
        "if opcion==\"1\":\n",
        "  suma=numero_uno+numero_dos\n",
        "  print(\"La suma es: \",suma)\n",
        "\n",
        "if opcion==\"2\":\n",
        "  resta=numero_uno-numero_dos\n",
        "  print(\"La resta es: \",resta)\n",
        "\n",
        "if opcion==\"3\":\n",
        "  multiplicacion=numero_uno*numero_dos\n",
        "  print(\"La multiplicación es: \",multiplicacion)\n",
        "\n",
        "if opcion==\"4\":\n",
        "  division=numero_uno/numero_dos\n",
        "  print(\"La división es: \",division)\n",
        "\n",
        "if opcion==\"5\":\n",
        "  potenciacion=numero_uno**numero_dos\n",
        "  print(\"La potenciación es: \",potenciacion)\n",
        "\n",
        "if opcion==\"6\":\n",
        "  raiz_cuadrada_uno=math.sqrt(numero_uno)\n",
        "  raiz_cuadrada_dos=math.sqrt(numero_dos)\n",
        "  print(\"La raiz cuadrada del primer nimero es: \",raiz_cuadrada_uno)\n",
        "  print(\"La raiz cuadrada del segundo numero es: \",raiz_cuadrada_dos)\n",
        "\n",
        "if opcion==\"7\":\n",
        "  logaritmo_uno=math.log10(numero_uno)\n",
        "  logaritmo_dos=math.log10(numero_dos)\n",
        "  print(\"El logaritmo en base 10 del primer numero es: \",logaritmo_uno)\n",
        "  print(\"El logaritmo en base 10 del segundo numemro es: \", logaritmo_dos)\n",
        "\n",
        "if opcion==\"8\":\n",
        "  sen_uno=math.sin(numero_uno)\n",
        "  sen_dos=math.sin(numero_dos)\n",
        "  print(\"El seno del primer numero es: \",sen_uno)\n",
        "  print(\"El seno del segundo numero es: \",sen_dos)\n",
        "\n",
        "if opcion==\"9\":\n",
        "  cos_uno=math.cos(numero_uno)\n",
        "  cos_dos=math.cos(numero_dos)\n",
        "  print(\"El coseno del primer numero es: \",cos_uno)\n",
        "  print(\"El coseno del segundo numero es: \",cos_dos)\n",
        "\n",
        "if opcion==\"10\":\n",
        "  tan_uno=math.tan(numero_uno)\n",
        "  tan_dos=math.tan(numero_dos)\n",
        "  print(\"La tangente del primer numero es: \",tan_uno)\n",
        "  print(\"La tangente del segundo numero es: \",tan_dos)"
      ],
      "metadata": {
        "colab": {
          "base_uri": "https://localhost:8080/"
        },
        "id": "vRVWBrsDfxm-",
        "outputId": "925e0a64-7503-4478-b9b6-ed56e9f8fd28"
      },
      "execution_count": null,
      "outputs": [
        {
          "output_type": "stream",
          "name": "stdout",
          "text": [
            "Ejemplo de Calculadora:\n",
            "\n",
            "MENU:\n",
            "\n",
            "1. Sumar (+)\n",
            "2. Restar (-)\n",
            "3. Multiplicar (*)\n",
            "4. Dividir (/)\n",
            "5. Potenciacion (^)\n",
            "6. Raiz cuadrada (√)\n",
            "7. Logaritmo en base 10 (Ln)\n",
            "8. Seno (sen)\n",
            "9. Coseno (con)\n",
            "10. Tangente (tan)\n",
            "\n",
            "Ingrese la opción deseada del menú: 5\n",
            "Ingrese el primer número de la operación:2\n",
            "Ingrese el segundo número de la operación:10\n",
            "\n",
            "La potenciación es: 1024.0\n"
          ]
        }
      ]
    },
    {
      "cell_type": "code",
      "source": [],
      "metadata": {
        "id": "0xirjLd7vZvJ"
      },
      "execution_count": null,
      "outputs": []
    }
  ]
}