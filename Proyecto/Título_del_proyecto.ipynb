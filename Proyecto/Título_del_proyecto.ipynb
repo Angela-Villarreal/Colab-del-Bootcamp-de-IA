{
  "nbformat": 4,
  "nbformat_minor": 0,
  "metadata": {
    "colab": {
      "provenance": [],
      "authorship_tag": "ABX9TyMGwK4I6JojQIMzkwqZDv14",
      "include_colab_link": true
    },
    "kernelspec": {
      "name": "python3",
      "display_name": "Python 3"
    },
    "language_info": {
      "name": "python"
    }
  },
  "cells": [
    {
      "cell_type": "markdown",
      "metadata": {
        "id": "view-in-github",
        "colab_type": "text"
      },
      "source": [
        "<a href=\"https://colab.research.google.com/github/Angela-Villarreal/Colab-del-Bootcamp-de-IA/blob/main/T%C3%ADtulo_del_proyecto.ipynb\" target=\"_parent\"><img src=\"https://colab.research.google.com/assets/colab-badge.svg\" alt=\"Open In Colab\"/></a>"
      ]
    },
    {
      "cell_type": "markdown",
      "source": [
        "# **Predicción de Rutas Óptimas Basadas en el Perfil del Usuario y su Rutina Diaria**\n",
        "\n",
        "**Objetivo general:** Desarrollar un modelo de machine learning utilizando un dataset público de movilidad urbana que permita predecir la ruta más adecuada entre varias opciones, considerando la ubicación actual del usuario, el horario y sus destinos habituales.\n",
        "\n",
        "**Objetivos específicos:**\n",
        "\n",
        "1. Predecir la velocidad promedio del tráfico en diferentes tramos de la ciudad.\n",
        "\n",
        "2. Estimar el nivel de congestión vehicular en tiempo real a lo largo de distintas rutas.\n",
        "\n",
        "3. Clasificar el estado del tráfico (alto, medio o bajo) según condiciones actuales y patrones históricos.\n",
        "\n",
        "4. Aplicar técnicas de segmentación para agrupar a los usuarios según su comportamiento de movilidad y características del entorno.\n"
      ],
      "metadata": {
        "id": "Z71hsaMadmoW"
      }
    }
  ]
}
